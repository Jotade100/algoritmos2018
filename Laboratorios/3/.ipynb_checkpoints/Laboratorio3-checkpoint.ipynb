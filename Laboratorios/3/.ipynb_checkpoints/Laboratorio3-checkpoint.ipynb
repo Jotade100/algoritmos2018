{
 "cells": [
  {
   "cell_type": "markdown",
   "metadata": {},
   "source": [
    "A continuación comenzaré haciendo mi propia variación de Quicksort, cuyo énfasis es en la modificación del método de segmentación llamado Partition"
   ]
  },
  {
   "cell_type": "code",
   "execution_count": 48,
   "metadata": {},
   "outputs": [],
   "source": [
    "def QuickSort(A,p,r):\n",
    "    if p < r:\n",
    "        # Usaré la notación del libro de Cormen, p para principio, q para el comodín de partición y r para el final.\n",
    "        q = Partition(A,p,r)\n",
    "        # Doble recursividad según Cormen.\n",
    "        QuickSort(A, p, q-1)\n",
    "        QuickSort(A, q+1, r)"
   ]
  },
  {
   "cell_type": "markdown",
   "metadata": {},
   "source": [
    "Mi idea es utilizar un pivote al azar que intercambie dicho índice aleatorio con el último, y luego aprovechar la estructura ya existente de partition para producir el siguiente comodín. Realmente no cambia mucho la estructura real de un Quicksort."
   ]
  },
  {
   "cell_type": "code",
   "execution_count": 53,
   "metadata": {},
   "outputs": [],
   "source": [
    "from random import randint\n",
    "def Partition(A,p,r):\n",
    "    # usaré la base de notación del libro de Cormen\n",
    "    azar = randint(p,r)\n",
    "    A[r],A[azar] = A[azar],A[r]\n",
    "    i =  p-1\n",
    "    x = A[r]\n",
    "    for j in range(p , r):\n",
    "        if   A[j] <= x:\n",
    "            i = i+1\n",
    "            A[i],A[j] = A[j],A[i]\n",
    " \n",
    "    A[i+1],A[r] = A[r],A[i+1]\n",
    "    i = i+1\n",
    "    return i"
   ]
  },
  {
   "cell_type": "code",
   "execution_count": 54,
   "metadata": {},
   "outputs": [
    {
     "name": "stdout",
     "output_type": "stream",
     "text": [
      "El algoritmo antes de ser ordenado es:  [5, 10, 15, 32, 55, 21, 40, 2, 3, 76, 89, 28, 9, 7]\n",
      "El algoritmo luego de ser ordenado es:  [2, 3, 5, 7, 9, 10, 15, 21, 28, 32, 40, 55, 76, 89]\n"
     ]
    }
   ],
   "source": [
    "unsorted_array = [5,10,15,32,55,21,40,2,3,76,89,28,9,7]\n",
    "print(\"El algoritmo antes de ser ordenado es: \", unsorted_array)\n",
    "QuickSort(unsorted_array, 0, len(unsorted_array)-1)\n",
    "print(\"El algoritmo luego de ser ordenado es: \", unsorted_array)"
   ]
  },
  {
   "cell_type": "markdown",
   "metadata": {},
   "source": [
    "No obstante en clase hablabamos que algoritmos que pretenden ser estables, es decir que parten el problema en partes iguales, garantizan un crecimiento logarítmico más parejo. Así que hice este método de partición que usa la mitad y vé que los elementos a la izquierda sean menores y los de la derecha sean mayores."
   ]
  },
  {
   "cell_type": "code",
   "execution_count": 70,
   "metadata": {},
   "outputs": [],
   "source": [
    "from math import floor\n",
    "def PartitionMitad(A, p, r):\n",
    "    #la variable izquierda contiene todos los elementos menores a la mitad, derecha todos los mayores\n",
    "    izquierda = p\n",
    "    derecha = r\n",
    "    mitad = floor((p+r)/2)\n",
    "    comodin = A[mitad]\n",
    "    while izquierda <= derecha:\n",
    "        while A[izquierda] < comodin:\n",
    "            izquierda = izquierda +1\n",
    "        while A[derecha] > comodin:\n",
    "            derecha = derecha -1\n",
    "        #intercambia las posiciones para dejar siempre elementos pequeños a la izquierda y grandes a la derecha\n",
    "        if(izquierda <= derecha) and (A[izquierda] >= A[derecha]):\n",
    "            A[izquierda],A[derecha] = A[derecha], A[izquierda]\n",
    "            izquierda = izquierda +1\n",
    "            derecha = derecha -1\n",
    "    # daré como valor de retorno un arreglo ya que necesito las variables izquierda y derecha para hacer la llamada recursiva\n",
    "    return([izquierda, derecha])"
   ]
  },
  {
   "cell_type": "code",
   "execution_count": 71,
   "metadata": {},
   "outputs": [],
   "source": [
    "def QuickSortMitad(A,p,r):\n",
    "    if p < r:\n",
    "        # Usaré la notación del libro de Cormen, p para principio, q para el comodín de partición y r para el final.\n",
    "        q = PartitionMitad(A,p,r)\n",
    "        # Doble recursividad según Cormen.\n",
    "        QuickSortMitad(A, p, q[1])\n",
    "        QuickSortMitad(A, q[0], r)"
   ]
  },
  {
   "cell_type": "code",
   "execution_count": 72,
   "metadata": {},
   "outputs": [
    {
     "name": "stdout",
     "output_type": "stream",
     "text": [
      "El algoritmo antes de ser ordenado es:  [5, 10, 15, 32, 55, 21, 40, 2, 3, 76, 89, 28, 9, 7]\n",
      "El algoritmo luego de ser ordenado es:  [2, 3, 5, 7, 9, 10, 15, 21, 28, 32, 40, 55, 76, 89]\n"
     ]
    }
   ],
   "source": [
    "unsorted_array = [5,10,15,32,55,21,40,2,3,76,89,28,9,7]\n",
    "print(\"El algoritmo antes de ser ordenado es: \", unsorted_array)\n",
    "QuickSortMitad(unsorted_array, 0, len(unsorted_array)-1)\n",
    "print(\"El algoritmo luego de ser ordenado es: \", unsorted_array)"
   ]
  }
 ],
 "metadata": {
  "kernelspec": {
   "display_name": "Python 3",
   "language": "python",
   "name": "python3"
  },
  "language_info": {
   "codemirror_mode": {
    "name": "ipython",
    "version": 3
   },
   "file_extension": ".py",
   "mimetype": "text/x-python",
   "name": "python",
   "nbconvert_exporter": "python",
   "pygments_lexer": "ipython3",
   "version": "3.6.5"
  }
 },
 "nbformat": 4,
 "nbformat_minor": 2
}
